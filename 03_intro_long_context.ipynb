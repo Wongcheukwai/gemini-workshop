{
 "cells": [
  {
   "cell_type": "code",
   "execution_count": 1,
   "metadata": {
    "id": "bCIMTPB1WoTq"
   },
   "outputs": [],
   "source": [
    "# Copyright 2024 Google LLC\n",
    "#\n",
    "# Licensed under the Apache License, Version 2.0 (the \"License\");\n",
    "# you may not use this file except in compliance with the License.\n",
    "# You may obtain a copy of the License at\n",
    "#\n",
    "#     https://www.apache.org/licenses/LICENSE-2.0\n",
    "#\n",
    "# Unless required by applicable law or agreed to in writing, software\n",
    "# distributed under the License is distributed on an \"AS IS\" BASIS,\n",
    "# WITHOUT WARRANTIES OR CONDITIONS OF ANY KIND, either express or implied.\n",
    "# See the License for the specific language governing permissions and\n",
    "# limitations under the License."
   ]
  },
  {
   "cell_type": "markdown",
   "metadata": {
    "id": "7yVV6txOmNMn"
   },
   "source": [
    "# Introduction to Long Context Window with Gemini on Vertex AI\n",
    "\n",
    "<table align=\"left\">\n",
    "  <td style=\"text-align: center\">\n",
    "    <a href=\"https://colab.research.google.com/github/GoogleCloudPlatform/generative-ai/blob/main/gemini/long-context/intro_long_context.ipynb\">\n",
    "      <img src=\"https://cloud.google.com/ml-engine/images/colab-logo-32px.png\" alt=\"Google Colaboratory logo\"><br> Open in Colab\n",
    "    </a>\n",
    "  </td>\n",
    "  <td style=\"text-align: center\">\n",
    "    <a href=\"https://console.cloud.google.com/vertex-ai/colab/import/https:%2F%2Fraw.githubusercontent.com%2FGoogleCloudPlatform%2Fgenerative-ai%2Fmain%2Fgemini%2Flong-context%2Fintro_long_context.ipynb\">\n",
    "      <img width=\"32px\" src=\"https://lh3.googleusercontent.com/JmcxdQi-qOpctIvWKgPtrzZdJJK-J3sWE1RsfjZNwshCFgE_9fULcNpuXYTilIR2hjwN\" alt=\"Google Cloud Colab Enterprise logo\"><br> Open in Colab Enterprise\n",
    "    </a>\n",
    "  </td>    \n",
    "  <td style=\"text-align: center\">\n",
    "    <a href=\"https://console.cloud.google.com/vertex-ai/workbench/deploy-notebook?download_url=https://raw.githubusercontent.com/GoogleCloudPlatform/generative-ai/main/gemini/long-context/intro_long_context.ipynb\">\n",
    "      <img src=\"https://lh3.googleusercontent.com/UiNooY4LUgW_oTvpsNhPpQzsstV5W8F7rYgxgGBD85cWJoLmrOzhVs_ksK_vgx40SHs7jCqkTkCk=e14-rj-sc0xffffff-h130-w32\" alt=\"Vertex AI logo\"><br> Open in Workbench\n",
    "    </a>\n",
    "  </td>\n",
    "  <td style=\"text-align: center\">\n",
    "    <a href=\"https://github.com/GoogleCloudPlatform/generative-ai/blob/main/gemini/long-context/intro_long_context.ipynb\">\n",
    "      <img src=\"https://cloud.google.com/ml-engine/images/github-logo-32px.png\" alt=\"GitHub logo\"><br> View on GitHub\n",
    "    </a>\n",
    "  </td>\n",
    "</table>\n"
   ]
  },
  {
   "cell_type": "markdown",
   "metadata": {
    "id": "1EExYZvij2ve"
   },
   "source": [
    "| | |\n",
    "|-|-|\n",
    "|Author(s) | [Holt Skinner](https://github.com/holtskinner) |"
   ]
  },
  {
   "cell_type": "markdown",
   "metadata": {
    "id": "t1DnOs6rkbOy"
   },
   "source": [
    "## Overview\n",
    "\n",
    "Historically, large language models (LLMs) were significantly limited by the amount of text (or tokens) that could be passed to the model at one time. Gemini 1.5 Flash and Gemini 1.5 Pro support a 1 million token context window, with [near-perfect retrieval (>99%)](https://storage.googleapis.com/deepmind-media/gemini/gemini_v1_5_report.pdf), which unlocks many new use cases and developer paradigms.\n",
    "\n",
    "In practice, 1 million tokens would look like:\n",
    "\n",
    "-   50,000 lines of code (with the standard 80 characters per line)\n",
    "-   All the text messages you have sent in the last 5 years\n",
    "-   8 average length English novels\n",
    "-   Transcripts of over 200 average length podcast episodes\n",
    "-   1 hour of video\n",
    "-   ~45 minutes of video with audio\n",
    "-   9.5 hours of audio\n",
    "\n",
    "While the standard use case for most generative models is still text input, the Gemini 1.5 model family enables a new paradigm of multimodal use cases. These models can natively understand text, video, audio, and images.\n",
    "\n",
    "In this notebook, we'll explore multimodal use cases of the long context window.\n",
    "\n",
    "For more information, refer to the [Gemini documentation about long context](https://ai.google.dev/gemini-api/docs/long-context)."
   ]
  },
  {
   "cell_type": "markdown",
   "metadata": {
    "id": "3e127df191a2"
   },
   "source": [
    "## Tokens\n",
    "\n",
    "Tokens can be single characters like `z` or whole words like `cat`. Long words\n",
    "are broken up into several tokens. The set of all tokens used by the model is\n",
    "called the vocabulary, and the process of splitting text into tokens is called\n",
    "_tokenization_.\n",
    "\n",
    "> **Important:** For Gemini models, a token is equivalent to about 4 characters. 100 tokens is equal to about 60-80 English words.\n",
    "\n",
    "For multimodal input, this is how tokens are calculated regardless of display or file size:\n",
    "\n",
    "* Images: `258` tokens\n",
    "* Video: `263` tokens per second\n",
    "* Audio: `32` tokens per second"
   ]
  },
  {
   "cell_type": "markdown",
   "metadata": {
    "id": "a8aa3bd0feda"
   },
   "source": [
    "## Why is the long context window useful?\n",
    "\n",
    "The basic way you use the Gemini models is by passing information (context)\n",
    "to the model, which will subsequently generate a response. An analogy for the\n",
    "context window is short term memory. There is a limited amount of information\n",
    "that can be stored in someone's short term memory, and the same is true for\n",
    "generative models.\n",
    "\n",
    "You can read more about how models work under the hood in our [generative models guide](https://cloud.google.com/vertex-ai/generative-ai/docs/learn/overview).\n",
    "\n",
    "Even though the models can take in more and more context, much of the\n",
    "conventional wisdom about using large language models assumes this inherent\n",
    "limitation on the model, which as of 2024, is no longer the case.\n",
    "\n",
    "Some common strategies to handle the limitation of small context windows\n",
    "included:\n",
    "\n",
    "-   Arbitrarily dropping old messages / text from the context window as new text\n",
    "    comes in\n",
    "-   Summarizing previous content and replacing it with the summary when the\n",
    "    context window gets close to being full\n",
    "-   Using RAG with semantic search to move data out of the context window and\n",
    "    into a vector database\n",
    "-   Using deterministic or generative filters to remove certain text /\n",
    "    characters from prompts to save tokens\n",
    "\n",
    "While many of these are still relevant in certain cases, the default place to start is now just putting all of the tokens into the context window. Because Gemini 1.5 models were purpose-built with a long context window, they are much more capable of in-context learning. This means that instructional materials provided in context can be highly effective for handling inputs that are not covered by the model's training data."
   ]
  },
  {
   "cell_type": "markdown",
   "metadata": {
    "id": "61RBz8LLbxCR"
   },
   "source": [
    "## Getting Started"
   ]
  },
  {
   "cell_type": "markdown",
   "metadata": {
    "id": "No17Cw5hgx12"
   },
   "source": [
    "### Install Vertex AI SDK for Python\n"
   ]
  },
  {
   "cell_type": "code",
   "execution_count": 2,
   "metadata": {
    "id": "tFy3H3aPgx12"
   },
   "outputs": [],
   "source": [
    "# %pip install --upgrade --user --quiet google-cloud-aiplatform"
   ]
  },
  {
   "cell_type": "markdown",
   "metadata": {
    "id": "R5Xep4W9lq-Z"
   },
   "source": [
    "### Restart runtime\n",
    "\n",
    "To use the newly installed packages in this Jupyter runtime, you must restart the runtime. You can do this by running the cell below, which restarts the current kernel."
   ]
  },
  {
   "cell_type": "code",
   "execution_count": 3,
   "metadata": {
    "id": "XRvKdaPDTznN"
   },
   "outputs": [],
   "source": [
    "# import sys\n",
    "\n",
    "# if \"google.colab\" in sys.modules:\n",
    "#     import IPython\n",
    "\n",
    "#     app = IPython.Application.instance()\n",
    "#     app.kernel.do_shutdown(True)"
   ]
  },
  {
   "cell_type": "markdown",
   "metadata": {
    "id": "SbmM4z7FOBpM"
   },
   "source": [
    "<div class=\"alert alert-block alert-warning\">\n",
    "<b>⚠️ The kernel is going to restart. Please wait until it is finished before continuing to the next step. ⚠️</b>\n",
    "</div>\n"
   ]
  },
  {
   "cell_type": "markdown",
   "metadata": {
    "id": "dmWOrTJ3gx13"
   },
   "source": [
    "### Authenticate your notebook environment (Colab only)\n",
    "\n",
    "If you are running this notebook on Google Colab, run the cell below to authenticate your environment.\n"
   ]
  },
  {
   "cell_type": "code",
   "execution_count": 4,
   "metadata": {
    "id": "NyKGtVQjgx13"
   },
   "outputs": [],
   "source": [
    "import sys\n",
    "\n",
    "if \"google.colab\" in sys.modules:\n",
    "    from google.colab import auth\n",
    "\n",
    "    auth.authenticate_user()"
   ]
  },
  {
   "cell_type": "markdown",
   "metadata": {
    "id": "DF4l8DTdWgPY"
   },
   "source": [
    "### Set Google Cloud project information and initialize Vertex AI SDK\n",
    "\n",
    "To get started using Vertex AI, you must have an existing Google Cloud project and [enable the Vertex AI API](https://console.cloud.google.com/flows/enableapi?apiid=aiplatform.googleapis.com).\n",
    "\n",
    "Learn more about [setting up a project and a development environment](https://cloud.google.com/vertex-ai/docs/start/cloud-environment)."
   ]
  },
  {
   "cell_type": "code",
   "execution_count": 5,
   "metadata": {
    "id": "Nqwi-5ufWp_B"
   },
   "outputs": [],
   "source": [
    "import os\n",
    "from dotenv import load_dotenv\n",
    "load_dotenv(\"config.env\")\n",
    "os.environ[\"PROGECT_ID\"] = os.getenv(\"PROJECT_ID\")\n",
    "\n",
    "# Define project information\n",
    "PROJECT_ID = os.environ[\"PROGECT_ID\"]  # @param {type:\"string\"}\n",
    "LOCATION = \"us-central1\"  # @param {type:\"string\"}\n",
    "\n",
    "import vertexai\n",
    "\n",
    "vertexai.init(project=PROJECT_ID, location=LOCATION)"
   ]
  },
  {
   "cell_type": "markdown",
   "metadata": {
    "id": "jXHfaVS66_01"
   },
   "source": [
    "### Import libraries\n"
   ]
  },
  {
   "cell_type": "code",
   "execution_count": 6,
   "metadata": {
    "id": "lslYAvw37JGQ"
   },
   "outputs": [],
   "source": [
    "from IPython.display import Markdown, display\n",
    "from vertexai.generative_models import GenerationConfig, GenerativeModel, Part"
   ]
  },
  {
   "cell_type": "markdown",
   "metadata": {
    "id": "BY1nfXrqRxVX"
   },
   "source": [
    "### Load the Gemini 1.5 Flash model\n",
    "\n",
    "To learn more about all [Gemini API models on Vertex AI](https://cloud.google.com/vertex-ai/generative-ai/docs/learn/models#gemini-models).\n"
   ]
  },
  {
   "cell_type": "code",
   "execution_count": 7,
   "metadata": {
    "id": "U7ExWmuLBdIA"
   },
   "outputs": [],
   "source": [
    "MODEL_ID = \"gemini-1.5-flash-001\"  # @param {type:\"string\"}\n",
    "\n",
    "model = GenerativeModel(\n",
    "    MODEL_ID, generation_config=GenerationConfig(max_output_tokens=8192)\n",
    ")"
   ]
  },
  {
   "cell_type": "markdown",
   "metadata": {
    "id": "l9OKM0-4SQf8"
   },
   "source": [
    "## Long-form text\n",
    "\n",
    "Text has proved to be the layer of intelligence underpinning much of the momentum around LLMs. As mentioned earlier, much of the practical limitation of LLMs was because of not having a large enough context window to do certain tasks. This led to the rapid adoption of retrieval augmented generation (RAG) and other techniques which dynamically provide the model with relevant\n",
    "contextual information.\n",
    "\n",
    "Some emerging and standard use cases for text based long context include:\n",
    "\n",
    "-   Summarizing large corpuses of text\n",
    "    -   Previous summarization options with smaller context models would require\n",
    "        a sliding window or another technique to keep state of previous sections\n",
    "        as new tokens are passed to the model\n",
    "-   Question and answering\n",
    "    -   Historically this was only possible with RAG given the limited amount of\n",
    "        context and models' factual recall being low\n",
    "-   Agentic workflows\n",
    "    -   Text is the underpinning of how agents keep state of what they have done\n",
    "        and what they need to do; not having enough information about the world\n",
    "        and the agent's goal is a limitation on the reliability of agents"
   ]
  },
  {
   "cell_type": "markdown",
   "metadata": {
    "id": "2dab25e392cb"
   },
   "source": [
    "[War and Peace by Leo Tolstoy](https://en.wikipedia.org/wiki/War_and_Peace) is considered one of the greatest literary works of all time; however, it is over 1,225 pages and the average reader will spend 37 hours and 48 minutes reading this book at 250 WPM (words per minute). 😵‍💫 The text alone takes up 3.4 MB of storage space. However, the entire novel consists of less than 900,000 tokens, so it will fit within the Gemini context window.\n",
    "\n",
    "We are going to pass in the entire text into Gemini 1.5 Flash and get a detailed summary of the plot. For this example, we have the text of the novel from [Project Gutenberg](https://www.gutenberg.org/ebooks/2600) stored in a public Google Cloud Storage bucket.\n",
    "\n",
    "First, we will use the `count_tokens()` method to examine the token count of the full prompt, then send the prompt to Gemini."
   ]
  },
  {
   "cell_type": "code",
   "execution_count": 8,
   "metadata": {
    "id": "FhFxrtfdSwOP"
   },
   "outputs": [
    {
     "name": "stdout",
     "output_type": "stream",
     "text": [
      "total_tokens: 839583\n",
      "total_billable_characters: 43\n",
      "\n",
      "\n",
      "Usage metadata:\n",
      "prompt_token_count: 839583\n",
      "candidates_token_count: 1335\n",
      "total_token_count: 840918\n",
      "\n"
     ]
    },
    {
     "data": {
      "text/markdown": [
       "## War and Peace: A Detailed Summary\n",
       "\n",
       "Leo Tolstoy's epic novel, *War and Peace*, is a sprawling tale encompassing the lives of five aristocratic Russian families during the Napoleonic Wars. It explores themes of love, marriage, war, peace, and the individual's role within history. \n",
       "\n",
       "**The Story:**\n",
       "\n",
       "* **Book One (1805):** The story begins in St. Petersburg where we meet Anna Pávlovna Schérer, a socialite hosting a gathering of high society. Among the guests are Prince Vasíli Kurágin, a scheming nobleman seeking a political appointment for his son; the beautiful Hélène, his daughter; and Prince Andrew Bolkónski, a disillusioned and cynical young aristocrat. \n",
       "* **Book Two (1805):** We witness the Russian army's arrival in Austria and the burgeoning romance between young Natásha Rostóva, a lively and vibrant girl, and Borís Drubetskóy, an officer seeking a position on Kutúzov’s staff. \n",
       "* **Book Three (1805):** The story shifts to the battle of Austerlitz, where Prince Andrew witnesses the brutality of war and his hero, Napoleon, in a less-than-ideal light. He suffers a serious wound and nearly dies, undergoing a spiritual transformation.\n",
       "* **Book Four (1806):** Pierre Bezúkhov, an illegitimate son, inherits a vast fortune after his father's death, leading to a whirlwind of social expectations and manipulation by Prince Vasíli, who orchestrates his marriage to Hélène. \n",
       "* **Book Five (1806-07):** Pierre becomes a Freemason and embarks on a journey of self-improvement, ultimately seeking a more virtuous and meaningful life. He also divorces Hélène and distances himself from the Kurágins.\n",
       "* **Book Six (1808-10):** Prince Andrew lives a more introspective and detached life in the countryside, focusing on his estates and writing. He encounters Pierre again, who tries to introduce him to Freemasonry, but Prince Andrew is still grappling with his disillusionment.\n",
       "* **Book Seven (1810-11):** As Napoleon’s armies prepare for the invasion of Russia, we see both the political machinations and the social anxieties leading up to the war. Prince Andrew returns to the military, seeking a way to make a difference.\n",
       "* **Book Eight (1811-12):** The invasion of Russia begins. We witness the battles of Austerlitz, Schön Grabern, and the capture of the Thabor Bridge at Vienna. Rostóv joins the army and experiences the horrors of war firsthand. \n",
       "* **Book Nine (1812):** The narrative centers on the Battle of Borodinó, a turning point in the war.  Prince Andrew is mortally wounded, and Pierre witnesses the horrors of the battlefield, leading him to a desire for change. \n",
       "* **Book Ten (1812):** Moscow is abandoned and burned, and Napoleon’s army retreats through Russia. The novel explores the Russian people’s response to the invasion and the impact of the war on both individuals and society.\n",
       "* **Book Eleven (1812):** Pierre becomes a \"citizen-soldier\" after experiencing a profound spiritual transformation in captivity. He seeks to make a difference in the world.\n",
       "* **Book Twelve (1812):** The French army flees from Russia in a disastrous retreat, with Napoleon making various misguided decisions. The novel highlights the importance of the guerrilla warfare carried out by the Russians.\n",
       "* **Book Thirteen (1812):** The retreat continues, with the Russian army pursuing the weakened French forces. Prince Andrew dies in the arms of Natásha, who is deeply affected by his passing.\n",
       "* **Book Fourteen (1812):** The novel explores the impact of the war on Russian society and the conflicting views about how to best defend the country. \n",
       "* **Book Fifteen (1812-13):** Natásha and Princess Mary find solace and support in each other after Prince Andrew’s death. Nicholas, after being freed from his commitment to Sónya, finds himself drawn to Princess Mary. Pierre's journey of self-discovery continues. \n",
       "* **Epilogue (1813-20):**  We see the long-term consequences of the war on the characters and their families. Natásha marries Pierre, and Nicholas marries Princess Mary. They find love and happiness, but the scars of war and the loss of loved ones are still felt deeply. The novel concludes with the lives of the characters evolving, embracing peace and new beginnings, but also acknowledging the enduring impact of the events they lived through.\n",
       "\n",
       "**Themes:**\n",
       "\n",
       "* **War and Peace:** The novel explores the profound impact of war on both individuals and society, contrasting the brutality of battle with the yearning for peace.\n",
       "* **Love and Family:** Love, in all its forms—romantic, familial, and spiritual—is a central theme. The novel explores the complexities of marriage, the bond between siblings, and the importance of family.\n",
       "* **Fate vs. Free Will:** The novel grapples with the interplay between fate and free will, considering how individual choices intersect with historical forces beyond our control.\n",
       "* **Faith and Spirituality:**  The novel examines the role of faith in individual lives and the search for meaning in a chaotic and often unjust world.\n",
       "* **Social Change:** The novel reflects the social upheaval of the early 19th century, exploring the dynamics of power, class, and the evolving roles of women in society.\n",
       "\n",
       "**Significance:**\n",
       "\n",
       "* War and Peace is considered one of the greatest novels ever written, lauded for its scope, realism, character development, and philosophical depth.\n",
       "* Its exploration of universal themes, combined with its historical context, makes it a timeless work of literature relevant to readers today.\n",
       "* The novel challenges traditional conceptions of heroism and war, questioning the role of individual actors in history and emphasizing the importance of the collective experience of humanity.\n",
       "\n",
       "**In Conclusion:** \n",
       "\n",
       "War and Peace is a profound and moving exploration of the human condition, offering a rich tapestry of individual lives interwoven with the tapestry of history itself. Its insights into the nature of love, war, and human destiny continue to resonate with readers today. \n"
      ],
      "text/plain": [
       "<IPython.core.display.Markdown object>"
      ]
     },
     "metadata": {},
     "output_type": "display_data"
    }
   ],
   "source": [
    "# Set contents to send to the model\n",
    "contents = [\n",
    "    \"Provide a detailed summary of the following novel.\",\n",
    "    Part.from_uri(\n",
    "        \"gs://github-repo/generative-ai/gemini/long-context/WarAndPeace.txt\",\n",
    "        mime_type=\"text/plain\",\n",
    "    ),\n",
    "]\n",
    "\n",
    "# Counts tokens\n",
    "print(model.count_tokens(contents))\n",
    "\n",
    "# Prompt the model to generate content\n",
    "response = model.generate_content(\n",
    "    contents,\n",
    ")\n",
    "\n",
    "# Print the model response\n",
    "print(f\"\\nUsage metadata:\\n{response.usage_metadata}\")\n",
    "\n",
    "display(Markdown(response.text))"
   ]
  },
  {
   "cell_type": "markdown",
   "metadata": {
    "id": "bedc5fe7ac33"
   },
   "source": [
    "## Long-form video\n",
    "\n",
    "Video content has been difficult to process due to constraints of the format itself.\n",
    "It was hard to skim the content, transcripts often failed to capture the nuance of a video, and most tools don't process images, text, and audio together.\n",
    "The Gemini 1.5 long context window allows the ability to reason and answer questions about multimodal inputs with\n",
    "sustained performance.\n",
    "\n",
    "When tested on the needle in a video haystack problem with 1M tokens, Gemini 1.5 Flash obtained >99.8% recall of the video in the context window, and Gemini 1.5 Pro reached state of the art performance on the [Video-MME benchmark](https://video-mme.github.io/home_page.html).\n",
    "\n",
    "Some emerging and standard use cases for video long context include:\n",
    "\n",
    "-   Video question and answering\n",
    "-   Video memory, as shown with [Google's Project Astra](https://deepmind.google/technologies/gemini/project-astra/)\n",
    "-   Video captioning\n",
    "-   Video recommendation systems, by enriching existing metadata with new\n",
    "    multimodal understanding\n",
    "-   Video customization, by looking at a corpus of data and associated video\n",
    "    metadata and then removing parts of videos that are not relevant to the\n",
    "    viewer\n",
    "-   Video content moderation\n",
    "-   Real-time video processing"
   ]
  },
  {
   "cell_type": "markdown",
   "metadata": {
    "id": "14c6c9427a81"
   },
   "source": [
    "[Google I/O](https://io.google/) is one of the major events when Google's developer tools are announced. Workshop sessions and are filled with a lot of material, so it can be difficult to keep track all that is discussed.\n",
    "\n",
    "We are going to use a video of a session from Google I/O 2024 focused on [Grounding for Gemini](https://www.youtube.com/watch?v=v4s5eU2tfd4) to calculate tokens and process the information presented. We will ask a specific question about a point in the video and ask for a general summary."
   ]
  },
  {
   "cell_type": "code",
   "execution_count": 9,
   "metadata": {
    "id": "c7890cf45808"
   },
   "outputs": [
    {
     "name": "stdout",
     "output_type": "stream",
     "text": [
      "total_tokens: 628364\n",
      "total_billable_characters: 54\n",
      "\n",
      "\n",
      "Usage metadata:\n",
      "prompt_token_count: 628364\n",
      "candidates_token_count: 16\n",
      "total_token_count: 628380\n",
      "\n"
     ]
    },
    {
     "data": {
      "text/markdown": [
       "The Cymbal Starlight demo begins at 24:54. \n"
      ],
      "text/plain": [
       "<IPython.core.display.Markdown object>"
      ]
     },
     "metadata": {},
     "output_type": "display_data"
    }
   ],
   "source": [
    "# Set contents to send to the model\n",
    "video = Part.from_uri(\n",
    "    \"gs://github-repo/generative-ai/gemini/long-context/GoogleIOGroundingRAG.mp4\",\n",
    "    mime_type=\"video/mp4\",\n",
    ")\n",
    "\n",
    "contents = [\"At what time in the following video is the Cymbal Starlight demo?\", video]\n",
    "\n",
    "# Counts tokens\n",
    "print(model.count_tokens(contents))\n",
    "\n",
    "# Prompt the model to generate content\n",
    "response = model.generate_content(\n",
    "    contents,\n",
    ")\n",
    "\n",
    "# Print the model response\n",
    "print(f\"\\nUsage metadata:\\n{response.usage_metadata}\")\n",
    "\n",
    "display(Markdown(response.text))"
   ]
  },
  {
   "cell_type": "code",
   "execution_count": 10,
   "metadata": {
    "id": "d5b00e40bd9f"
   },
   "outputs": [
    {
     "name": "stdout",
     "output_type": "stream",
     "text": [
      "total_tokens: 628363\n",
      "total_billable_characters: 69\n",
      "\n",
      "\n",
      "Usage metadata:\n",
      "prompt_token_count: 628363\n",
      "candidates_token_count: 113\n",
      "total_token_count: 628476\n",
      "\n"
     ]
    },
    {
     "data": {
      "text/markdown": [
       "This video is super exciting for any software developer interested in using Google Cloud's Vertex AI! The speaker dives into the fascinating world of Grounding for Gemini, exploring the capabilities and benefits of using Vertex AI Search and DIY RAG. Get ready to learn how to create custom search engines, build chatbots with real-world information, and even dive into the advanced world of multimodal retrieval augmented generation (RAG) using LangChain. This video is full of practical examples and valuable insights, making it a must-watch for anyone looking to enhance their AI development skills! "
      ],
      "text/plain": [
       "<IPython.core.display.Markdown object>"
      ]
     },
     "metadata": {},
     "output_type": "display_data"
    }
   ],
   "source": [
    "contents = [\n",
    "    \"Provide an enthusiastic summary of the video, tailored for software developers.\",\n",
    "    video,\n",
    "]\n",
    "\n",
    "# Counts tokens\n",
    "print(model.count_tokens(contents))\n",
    "\n",
    "# Prompt the model to generate content\n",
    "response = model.generate_content(contents)\n",
    "\n",
    "# Print the model response\n",
    "print(f\"\\nUsage metadata:\\n{response.usage_metadata}\")\n",
    "\n",
    "display(Markdown(response.text))"
   ]
  },
  {
   "cell_type": "markdown",
   "metadata": {
    "id": "a5d0d710941c"
   },
   "source": [
    "## Long-form audio\n",
    "\n",
    "In order to process audio, developers have typically needed to string together multiple models, like a speech-to-text model and a text-to-text model, in order to process audio. This led to additional latency due to multiple round-trip requests, and the context of the audio itself could be lost.\n",
    "\n",
    "The Gemini 1.5 models were the first natively multimodal large language models that could understand audio.\n",
    "\n",
    "On standard audio-haystack evaluations, Gemini 1.5 Pro is able to find the hidden audio in 100% of the tests and Gemini 1.5 Flash is able to find it in 98.7% [of the tests](https://storage.googleapis.com/deepmind-media/gemini/gemini_v1_5_report.pdf). Further, on a test set of 15-minute audio clips, Gemini 1.5 Pro archives a word error rate (WER) of ~5.5%, much lower than even specialized speech-to-text models, without the added complexity of extra input segmentation and pre-processing.\n",
    "\n",
    "The long context window accepts up to 9.5 hours of audio in a single request.\n",
    "\n",
    "Some emerging and standard use cases for audio context include:\n",
    "\n",
    "-   Real-time transcription and translation\n",
    "-   Podcast / video question and answering\n",
    "-   Meeting transcription and summarization\n",
    "-   Voice assistants"
   ]
  },
  {
   "cell_type": "markdown",
   "metadata": {
    "id": "7d3bb89a87a5"
   },
   "source": [
    "Podcasts are a great way to learn about the latest news in technology, but there are so many out there that it can be difficult to follow them all. It's also challenging to find a specific episode with a given topic or a quote.\n",
    "\n",
    "In this example, we will process 9 episodes of the [Google Kubernetes Podcast](https://cloud.google.com/podcasts/kubernetespodcast) and ask specific questions about the content."
   ]
  },
  {
   "cell_type": "code",
   "execution_count": 11,
   "metadata": {
    "id": "672059078485"
   },
   "outputs": [
    {
     "name": "stdout",
     "output_type": "stream",
     "text": [
      "total_tokens: 1012279\n",
      "total_billable_characters: 80\n",
      "\n",
      "\n",
      "Usage metadata:\n",
      "prompt_token_count: 1012279\n",
      "candidates_token_count: 110\n",
      "total_token_count: 1012389\n",
      "\n"
     ]
    },
    {
     "data": {
      "text/markdown": [
       "The podcasts you provided do not mention anything about AI/ML workloads on Kubernetes, but they do discuss other related topics such as:\n",
       "\n",
       "- Kubernetes as a platform for building platforms\n",
       "- The use of operators for managing Kubernetes workloads\n",
       "- The importance of observability for complex systems\n",
       "- The challenges of scaling Kubernetes and the need for new solutions\n",
       "- The role of the community in driving innovation in Kubernetes\n",
       "\n",
       "The podcasts also discuss the importance of finding a way to monetize open source projects so that they can continue to be developed and maintained. \n"
      ],
      "text/plain": [
       "<IPython.core.display.Markdown object>"
      ]
     },
     "metadata": {},
     "output_type": "display_data"
    }
   ],
   "source": [
    "# Set contents to send to the model\n",
    "contents = [\n",
    "    \"According to the following podcasts, what can you tell me about AI/ML workloads on Kubernetes?\",\n",
    "    Part.from_uri(\n",
    "        \"gs://github-repo/generative-ai/gemini/long-context/20240417-kpod223.mp3\",\n",
    "        mime_type=\"audio/mpeg\",\n",
    "    ),\n",
    "    Part.from_uri(\n",
    "        \"gs://github-repo/generative-ai/gemini/long-context/20240430-kpod224.mp3\",\n",
    "        mime_type=\"audio/mpeg\",\n",
    "    ),\n",
    "    Part.from_uri(\n",
    "        \"gs://github-repo/generative-ai/gemini/long-context/20240515-kpod225.mp3\",\n",
    "        mime_type=\"audio/mpeg\",\n",
    "    ),\n",
    "    Part.from_uri(\n",
    "        \"gs://github-repo/generative-ai/gemini/long-context/20240529-kpod226.mp3\",\n",
    "        mime_type=\"audio/mpeg\",\n",
    "    ),\n",
    "    Part.from_uri(\n",
    "        \"gs://github-repo/generative-ai/gemini/long-context/20240606-kpod227.mp3\",\n",
    "        mime_type=\"audio/mpeg\",\n",
    "    ),\n",
    "    Part.from_uri(\n",
    "        \"gs://github-repo/generative-ai/gemini/long-context/20240611-kpod228.mp3\",\n",
    "        mime_type=\"audio/mpeg\",\n",
    "    ),\n",
    "    Part.from_uri(\n",
    "        \"gs://github-repo/generative-ai/gemini/long-context/20240625-kpod229.mp3\",\n",
    "        mime_type=\"audio/mpeg\",\n",
    "    ),\n",
    "    Part.from_uri(\n",
    "        \"gs://github-repo/generative-ai/gemini/long-context/20240709-kpod230.mp3\",\n",
    "        mime_type=\"audio/mpeg\",\n",
    "    ),\n",
    "    Part.from_uri(\n",
    "        \"gs://github-repo/generative-ai/gemini/long-context/20240723-kpod231.mp3\",\n",
    "        mime_type=\"audio/mpeg\",\n",
    "    ),\n",
    "]\n",
    "\n",
    "# Counts tokens\n",
    "print(model.count_tokens(contents))\n",
    "\n",
    "# Prompt the model to generate content\n",
    "response = model.generate_content(\n",
    "    contents,\n",
    ")\n",
    "\n",
    "# Print the model response\n",
    "print(f\"\\nUsage metadata:\\n{response.usage_metadata}\")\n",
    "\n",
    "display(Markdown(response.text))"
   ]
  },
  {
   "cell_type": "markdown",
   "metadata": {
    "id": "8291d9972287"
   },
   "source": [
    "## Code\n",
    "\n",
    "For a long context window use case involving ingesting an entire GitHub repository, check out [Analyze a codebase with Vertex AI Gemini 1.5 Pro](https://github.com/GoogleCloudPlatform/generative-ai/blob/main/gemini/use-cases/code/analyze_codebase_with_gemini_1_5_pro.ipynb)"
   ]
  },
  {
   "cell_type": "markdown",
   "metadata": {
    "id": "aec8e711926b"
   },
   "source": [
    "## Context caching\n",
    "\n",
    "[Context caching](https://cloud.google.com/vertex-ai/generative-ai/docs/context-cache/context-cache-overview) allows developers to reduce the time and cost of repeated requests using the large context window.\n",
    "For examples on how to use Context Caching with Gemini on Vertex AI, refer to [Intro to Context Caching with Gemini on Vertex AI](https://github.com/GoogleCloudPlatform/generative-ai/blob/main/gemini/context-caching/intro_context_caching.ipynb)"
   ]
  }
 ],
 "metadata": {
  "colab": {
   "name": "intro_long_context.ipynb",
   "toc_visible": true
  },
  "environment": {
   "kernel": "conda-base-py",
   "name": "workbench-notebooks.m124",
   "type": "gcloud",
   "uri": "us-docker.pkg.dev/deeplearning-platform-release/gcr.io/workbench-notebooks:m124"
  },
  "kernelspec": {
   "display_name": "Python 3 (ipykernel) (Local)",
   "language": "python",
   "name": "conda-base-py"
  },
  "language_info": {
   "codemirror_mode": {
    "name": "ipython",
    "version": 3
   },
   "file_extension": ".py",
   "mimetype": "text/x-python",
   "name": "python",
   "nbconvert_exporter": "python",
   "pygments_lexer": "ipython3",
   "version": "3.10.14"
  }
 },
 "nbformat": 4,
 "nbformat_minor": 4
}
